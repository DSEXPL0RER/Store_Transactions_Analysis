{
  "cells": [
    {
      "cell_type": "markdown",
      "id": "2843b0b3-db94-4759-9a76-c852a35eb16e",
      "metadata": {
        "id": "2843b0b3-db94-4759-9a76-c852a35eb16e"
      },
      "source": [
        "# Part 1: Preprocessing the Data"
      ]
    },
    {
      "cell_type": "code",
      "execution_count": null,
      "id": "7fe75151-d7e4-4e6c-8050-fb2acdc39b89",
      "metadata": {
        "id": "7fe75151-d7e4-4e6c-8050-fb2acdc39b89"
      },
      "outputs": [],
      "source": [
        "#importing libraries\n",
        "\n",
        "import pandas as pd\n",
        "from mlxtend.frequent_patterns import apriori, association_rules\n",
        "from mlxtend.preprocessing import TransactionEncoder\n",
        "import seaborn as sns\n",
        "import mlxtend\n",
        "import matplotlib.pyplot as plt"
      ]
    },
    {
      "cell_type": "markdown",
      "id": "ea22abbf-ba1d-4837-a60e-d1396ebd2694",
      "metadata": {
        "id": "ea22abbf-ba1d-4837-a60e-d1396ebd2694"
      },
      "source": [
        "# 1. Load the Dataset"
      ]
    },
    {
      "cell_type": "code",
      "execution_count": null,
      "id": "c8bd1239-6ec5-4f4f-bf4e-a9eb3e830754",
      "metadata": {
        "id": "c8bd1239-6ec5-4f4f-bf4e-a9eb3e830754",
        "outputId": "be663c94-a66f-4dd4-b161-07dc84094948"
      },
      "outputs": [
        {
          "data": {
            "text/html": [
              "<div>\n",
              "<style scoped>\n",
              "    .dataframe tbody tr th:only-of-type {\n",
              "        vertical-align: middle;\n",
              "    }\n",
              "\n",
              "    .dataframe tbody tr th {\n",
              "        vertical-align: top;\n",
              "    }\n",
              "\n",
              "    .dataframe thead th {\n",
              "        text-align: right;\n",
              "    }\n",
              "</style>\n",
              "<table border=\"1\" class=\"dataframe\">\n",
              "  <thead>\n",
              "    <tr style=\"text-align: right;\">\n",
              "      <th></th>\n",
              "      <th>0</th>\n",
              "      <th>1</th>\n",
              "      <th>2</th>\n",
              "      <th>3</th>\n",
              "      <th>4</th>\n",
              "      <th>5</th>\n",
              "      <th>6</th>\n",
              "      <th>7</th>\n",
              "      <th>8</th>\n",
              "      <th>9</th>\n",
              "      <th>10</th>\n",
              "      <th>11</th>\n",
              "      <th>12</th>\n",
              "      <th>13</th>\n",
              "      <th>14</th>\n",
              "      <th>15</th>\n",
              "      <th>16</th>\n",
              "      <th>17</th>\n",
              "      <th>18</th>\n",
              "      <th>19</th>\n",
              "    </tr>\n",
              "  </thead>\n",
              "  <tbody>\n",
              "    <tr>\n",
              "      <th>0</th>\n",
              "      <td>shrimp</td>\n",
              "      <td>almonds</td>\n",
              "      <td>avocado</td>\n",
              "      <td>vegetables mix</td>\n",
              "      <td>green grapes</td>\n",
              "      <td>whole weat flour</td>\n",
              "      <td>yams</td>\n",
              "      <td>cottage cheese</td>\n",
              "      <td>energy drink</td>\n",
              "      <td>tomato juice</td>\n",
              "      <td>low fat yogurt</td>\n",
              "      <td>green tea</td>\n",
              "      <td>honey</td>\n",
              "      <td>salad</td>\n",
              "      <td>mineral water</td>\n",
              "      <td>salmon</td>\n",
              "      <td>antioxydant juice</td>\n",
              "      <td>frozen smoothie</td>\n",
              "      <td>spinach</td>\n",
              "      <td>olive oil</td>\n",
              "    </tr>\n",
              "    <tr>\n",
              "      <th>1</th>\n",
              "      <td>burgers</td>\n",
              "      <td>meatballs</td>\n",
              "      <td>eggs</td>\n",
              "      <td>NaN</td>\n",
              "      <td>NaN</td>\n",
              "      <td>NaN</td>\n",
              "      <td>NaN</td>\n",
              "      <td>NaN</td>\n",
              "      <td>NaN</td>\n",
              "      <td>NaN</td>\n",
              "      <td>NaN</td>\n",
              "      <td>NaN</td>\n",
              "      <td>NaN</td>\n",
              "      <td>NaN</td>\n",
              "      <td>NaN</td>\n",
              "      <td>NaN</td>\n",
              "      <td>NaN</td>\n",
              "      <td>NaN</td>\n",
              "      <td>NaN</td>\n",
              "      <td>NaN</td>\n",
              "    </tr>\n",
              "    <tr>\n",
              "      <th>2</th>\n",
              "      <td>chutney</td>\n",
              "      <td>NaN</td>\n",
              "      <td>NaN</td>\n",
              "      <td>NaN</td>\n",
              "      <td>NaN</td>\n",
              "      <td>NaN</td>\n",
              "      <td>NaN</td>\n",
              "      <td>NaN</td>\n",
              "      <td>NaN</td>\n",
              "      <td>NaN</td>\n",
              "      <td>NaN</td>\n",
              "      <td>NaN</td>\n",
              "      <td>NaN</td>\n",
              "      <td>NaN</td>\n",
              "      <td>NaN</td>\n",
              "      <td>NaN</td>\n",
              "      <td>NaN</td>\n",
              "      <td>NaN</td>\n",
              "      <td>NaN</td>\n",
              "      <td>NaN</td>\n",
              "    </tr>\n",
              "    <tr>\n",
              "      <th>3</th>\n",
              "      <td>turkey</td>\n",
              "      <td>avocado</td>\n",
              "      <td>NaN</td>\n",
              "      <td>NaN</td>\n",
              "      <td>NaN</td>\n",
              "      <td>NaN</td>\n",
              "      <td>NaN</td>\n",
              "      <td>NaN</td>\n",
              "      <td>NaN</td>\n",
              "      <td>NaN</td>\n",
              "      <td>NaN</td>\n",
              "      <td>NaN</td>\n",
              "      <td>NaN</td>\n",
              "      <td>NaN</td>\n",
              "      <td>NaN</td>\n",
              "      <td>NaN</td>\n",
              "      <td>NaN</td>\n",
              "      <td>NaN</td>\n",
              "      <td>NaN</td>\n",
              "      <td>NaN</td>\n",
              "    </tr>\n",
              "    <tr>\n",
              "      <th>4</th>\n",
              "      <td>mineral water</td>\n",
              "      <td>milk</td>\n",
              "      <td>energy bar</td>\n",
              "      <td>whole wheat rice</td>\n",
              "      <td>green tea</td>\n",
              "      <td>NaN</td>\n",
              "      <td>NaN</td>\n",
              "      <td>NaN</td>\n",
              "      <td>NaN</td>\n",
              "      <td>NaN</td>\n",
              "      <td>NaN</td>\n",
              "      <td>NaN</td>\n",
              "      <td>NaN</td>\n",
              "      <td>NaN</td>\n",
              "      <td>NaN</td>\n",
              "      <td>NaN</td>\n",
              "      <td>NaN</td>\n",
              "      <td>NaN</td>\n",
              "      <td>NaN</td>\n",
              "      <td>NaN</td>\n",
              "    </tr>\n",
              "    <tr>\n",
              "      <th>...</th>\n",
              "      <td>...</td>\n",
              "      <td>...</td>\n",
              "      <td>...</td>\n",
              "      <td>...</td>\n",
              "      <td>...</td>\n",
              "      <td>...</td>\n",
              "      <td>...</td>\n",
              "      <td>...</td>\n",
              "      <td>...</td>\n",
              "      <td>...</td>\n",
              "      <td>...</td>\n",
              "      <td>...</td>\n",
              "      <td>...</td>\n",
              "      <td>...</td>\n",
              "      <td>...</td>\n",
              "      <td>...</td>\n",
              "      <td>...</td>\n",
              "      <td>...</td>\n",
              "      <td>...</td>\n",
              "      <td>...</td>\n",
              "    </tr>\n",
              "    <tr>\n",
              "      <th>7496</th>\n",
              "      <td>butter</td>\n",
              "      <td>light mayo</td>\n",
              "      <td>fresh bread</td>\n",
              "      <td>NaN</td>\n",
              "      <td>NaN</td>\n",
              "      <td>NaN</td>\n",
              "      <td>NaN</td>\n",
              "      <td>NaN</td>\n",
              "      <td>NaN</td>\n",
              "      <td>NaN</td>\n",
              "      <td>NaN</td>\n",
              "      <td>NaN</td>\n",
              "      <td>NaN</td>\n",
              "      <td>NaN</td>\n",
              "      <td>NaN</td>\n",
              "      <td>NaN</td>\n",
              "      <td>NaN</td>\n",
              "      <td>NaN</td>\n",
              "      <td>NaN</td>\n",
              "      <td>NaN</td>\n",
              "    </tr>\n",
              "    <tr>\n",
              "      <th>7497</th>\n",
              "      <td>burgers</td>\n",
              "      <td>frozen vegetables</td>\n",
              "      <td>eggs</td>\n",
              "      <td>french fries</td>\n",
              "      <td>magazines</td>\n",
              "      <td>green tea</td>\n",
              "      <td>NaN</td>\n",
              "      <td>NaN</td>\n",
              "      <td>NaN</td>\n",
              "      <td>NaN</td>\n",
              "      <td>NaN</td>\n",
              "      <td>NaN</td>\n",
              "      <td>NaN</td>\n",
              "      <td>NaN</td>\n",
              "      <td>NaN</td>\n",
              "      <td>NaN</td>\n",
              "      <td>NaN</td>\n",
              "      <td>NaN</td>\n",
              "      <td>NaN</td>\n",
              "      <td>NaN</td>\n",
              "    </tr>\n",
              "    <tr>\n",
              "      <th>7498</th>\n",
              "      <td>chicken</td>\n",
              "      <td>NaN</td>\n",
              "      <td>NaN</td>\n",
              "      <td>NaN</td>\n",
              "      <td>NaN</td>\n",
              "      <td>NaN</td>\n",
              "      <td>NaN</td>\n",
              "      <td>NaN</td>\n",
              "      <td>NaN</td>\n",
              "      <td>NaN</td>\n",
              "      <td>NaN</td>\n",
              "      <td>NaN</td>\n",
              "      <td>NaN</td>\n",
              "      <td>NaN</td>\n",
              "      <td>NaN</td>\n",
              "      <td>NaN</td>\n",
              "      <td>NaN</td>\n",
              "      <td>NaN</td>\n",
              "      <td>NaN</td>\n",
              "      <td>NaN</td>\n",
              "    </tr>\n",
              "    <tr>\n",
              "      <th>7499</th>\n",
              "      <td>escalope</td>\n",
              "      <td>green tea</td>\n",
              "      <td>NaN</td>\n",
              "      <td>NaN</td>\n",
              "      <td>NaN</td>\n",
              "      <td>NaN</td>\n",
              "      <td>NaN</td>\n",
              "      <td>NaN</td>\n",
              "      <td>NaN</td>\n",
              "      <td>NaN</td>\n",
              "      <td>NaN</td>\n",
              "      <td>NaN</td>\n",
              "      <td>NaN</td>\n",
              "      <td>NaN</td>\n",
              "      <td>NaN</td>\n",
              "      <td>NaN</td>\n",
              "      <td>NaN</td>\n",
              "      <td>NaN</td>\n",
              "      <td>NaN</td>\n",
              "      <td>NaN</td>\n",
              "    </tr>\n",
              "    <tr>\n",
              "      <th>7500</th>\n",
              "      <td>eggs</td>\n",
              "      <td>frozen smoothie</td>\n",
              "      <td>yogurt cake</td>\n",
              "      <td>low fat yogurt</td>\n",
              "      <td>NaN</td>\n",
              "      <td>NaN</td>\n",
              "      <td>NaN</td>\n",
              "      <td>NaN</td>\n",
              "      <td>NaN</td>\n",
              "      <td>NaN</td>\n",
              "      <td>NaN</td>\n",
              "      <td>NaN</td>\n",
              "      <td>NaN</td>\n",
              "      <td>NaN</td>\n",
              "      <td>NaN</td>\n",
              "      <td>NaN</td>\n",
              "      <td>NaN</td>\n",
              "      <td>NaN</td>\n",
              "      <td>NaN</td>\n",
              "      <td>NaN</td>\n",
              "    </tr>\n",
              "  </tbody>\n",
              "</table>\n",
              "<p>7501 rows × 20 columns</p>\n",
              "</div>"
            ],
            "text/plain": [
              "                 0                  1            2                 3   \\\n",
              "0            shrimp            almonds      avocado    vegetables mix   \n",
              "1           burgers          meatballs         eggs               NaN   \n",
              "2           chutney                NaN          NaN               NaN   \n",
              "3            turkey            avocado          NaN               NaN   \n",
              "4     mineral water               milk   energy bar  whole wheat rice   \n",
              "...             ...                ...          ...               ...   \n",
              "7496         butter         light mayo  fresh bread               NaN   \n",
              "7497        burgers  frozen vegetables         eggs      french fries   \n",
              "7498        chicken                NaN          NaN               NaN   \n",
              "7499       escalope          green tea          NaN               NaN   \n",
              "7500           eggs    frozen smoothie  yogurt cake    low fat yogurt   \n",
              "\n",
              "                4                 5     6               7             8   \\\n",
              "0     green grapes  whole weat flour  yams  cottage cheese  energy drink   \n",
              "1              NaN               NaN   NaN             NaN           NaN   \n",
              "2              NaN               NaN   NaN             NaN           NaN   \n",
              "3              NaN               NaN   NaN             NaN           NaN   \n",
              "4        green tea               NaN   NaN             NaN           NaN   \n",
              "...            ...               ...   ...             ...           ...   \n",
              "7496           NaN               NaN   NaN             NaN           NaN   \n",
              "7497     magazines         green tea   NaN             NaN           NaN   \n",
              "7498           NaN               NaN   NaN             NaN           NaN   \n",
              "7499           NaN               NaN   NaN             NaN           NaN   \n",
              "7500           NaN               NaN   NaN             NaN           NaN   \n",
              "\n",
              "                9               10         11     12     13             14  \\\n",
              "0     tomato juice  low fat yogurt  green tea  honey  salad  mineral water   \n",
              "1              NaN             NaN        NaN    NaN    NaN            NaN   \n",
              "2              NaN             NaN        NaN    NaN    NaN            NaN   \n",
              "3              NaN             NaN        NaN    NaN    NaN            NaN   \n",
              "4              NaN             NaN        NaN    NaN    NaN            NaN   \n",
              "...            ...             ...        ...    ...    ...            ...   \n",
              "7496           NaN             NaN        NaN    NaN    NaN            NaN   \n",
              "7497           NaN             NaN        NaN    NaN    NaN            NaN   \n",
              "7498           NaN             NaN        NaN    NaN    NaN            NaN   \n",
              "7499           NaN             NaN        NaN    NaN    NaN            NaN   \n",
              "7500           NaN             NaN        NaN    NaN    NaN            NaN   \n",
              "\n",
              "          15                 16               17       18         19  \n",
              "0     salmon  antioxydant juice  frozen smoothie  spinach  olive oil  \n",
              "1        NaN                NaN              NaN      NaN        NaN  \n",
              "2        NaN                NaN              NaN      NaN        NaN  \n",
              "3        NaN                NaN              NaN      NaN        NaN  \n",
              "4        NaN                NaN              NaN      NaN        NaN  \n",
              "...      ...                ...              ...      ...        ...  \n",
              "7496     NaN                NaN              NaN      NaN        NaN  \n",
              "7497     NaN                NaN              NaN      NaN        NaN  \n",
              "7498     NaN                NaN              NaN      NaN        NaN  \n",
              "7499     NaN                NaN              NaN      NaN        NaN  \n",
              "7500     NaN                NaN              NaN      NaN        NaN  \n",
              "\n",
              "[7501 rows x 20 columns]"
            ]
          },
          "execution_count": 7,
          "metadata": {},
          "output_type": "execute_result"
        }
      ],
      "source": [
        "#There is no header in the file\n",
        "\n",
        "file_path = 'store_data.csv'\n",
        "df = pd.read_csv(file_path, header=None)\n",
        "df"
      ]
    },
    {
      "cell_type": "markdown",
      "id": "9efd8e26-53e4-4071-b4d0-1c3989121ad6",
      "metadata": {
        "id": "9efd8e26-53e4-4071-b4d0-1c3989121ad6"
      },
      "source": [
        "# 2. Data Cleaning"
      ]
    },
    {
      "cell_type": "code",
      "execution_count": null,
      "id": "9e5c68a5-ba21-4142-8d93-aa6930b60a05",
      "metadata": {
        "id": "9e5c68a5-ba21-4142-8d93-aa6930b60a05"
      },
      "outputs": [],
      "source": [
        "#filing missing values.\n",
        "\n",
        "df.fillna('', inplace=True)\n",
        "\n",
        "#Converting the DataFrame to a list of lists format for Apriori Algo.\n",
        "\n",
        "transactions = df.apply(lambda row: [item for item in row if item != ''], axis=1).tolist()"
      ]
    },
    {
      "cell_type": "markdown",
      "id": "52bcee59-1e60-4e1a-8adf-74e992831a79",
      "metadata": {
        "id": "52bcee59-1e60-4e1a-8adf-74e992831a79"
      },
      "source": [
        "# Part 2: Implementing Apriori Algorithm"
      ]
    },
    {
      "cell_type": "code",
      "execution_count": null,
      "id": "a26b6665-7cdd-4607-b7a2-783f3e262a03",
      "metadata": {
        "id": "a26b6665-7cdd-4607-b7a2-783f3e262a03"
      },
      "outputs": [],
      "source": [
        "#Encoding transactions for Apriori Algo.\n",
        "\n",
        "te = TransactionEncoder()\n",
        "te_ary = te.fit(transactions).transform(transactions)\n",
        "df_encoded = pd.DataFrame(te_ary, columns=te.columns_)"
      ]
    },
    {
      "cell_type": "markdown",
      "id": "1d6b60d9-c164-4830-b651-e060f0ae9a9f",
      "metadata": {
        "id": "1d6b60d9-c164-4830-b651-e060f0ae9a9f"
      },
      "source": [
        "# 1. Frequent Itemset Mining"
      ]
    },
    {
      "cell_type": "code",
      "execution_count": null,
      "id": "4239c70d-d306-4406-a9f3-7904b4ca2277",
      "metadata": {
        "id": "4239c70d-d306-4406-a9f3-7904b4ca2277",
        "outputId": "cb48556e-027a-4a70-8165-c6c945b7eab4"
      },
      "outputs": [
        {
          "name": "stdout",
          "output_type": "stream",
          "text": [
            "Frequent Itemsets:\n",
            "      support                                           itemsets\n",
            "0    0.020397                                          (almonds)\n",
            "1    0.008932                                (antioxydant juice)\n",
            "2    0.004666                                        (asparagus)\n",
            "3    0.033329                                          (avocado)\n",
            "4    0.004533                                      (babies food)\n",
            "..        ...                                                ...\n",
            "837  0.006266       (whole wheat rice, spaghetti, mineral water)\n",
            "838  0.005066                   (pancakes, spaghetti, olive oil)\n",
            "839  0.004533        (chocolate, spaghetti, mineral water, eggs)\n",
            "840  0.004933        (chocolate, spaghetti, mineral water, milk)\n",
            "841  0.004533  (milk, spaghetti, mineral water, frozen vegeta...\n",
            "\n",
            "[842 rows x 2 columns]\n"
          ]
        }
      ],
      "source": [
        "#Applying the Apriori algo with min_support 0.0045.\n",
        "\n",
        "min_support = 0.0045\n",
        "frequent_itemsets = apriori(df_encoded, min_support=min_support, use_colnames=True)\n",
        "\n",
        "#Displaying the frequent itemsets with their support values.\n",
        "\n",
        "print(\"Frequent Itemsets:\")\n",
        "print(frequent_itemsets)"
      ]
    },
    {
      "cell_type": "code",
      "execution_count": null,
      "id": "73cf8c61-f779-4a58-a592-89a8e3973a03",
      "metadata": {
        "id": "73cf8c61-f779-4a58-a592-89a8e3973a03"
      },
      "outputs": [],
      "source": [
        "#Saving the frequent itemsets to a CSV file.\n",
        "\n",
        "frequent_itemsets.to_csv('transactions.csv', index=False, header=False)"
      ]
    },
    {
      "cell_type": "markdown",
      "id": "041161d7-3967-4fa1-9907-ae3c30ee2344",
      "metadata": {
        "id": "041161d7-3967-4fa1-9907-ae3c30ee2344"
      },
      "source": [
        "#2. Association Rule Mining"
      ]
    },
    {
      "cell_type": "code",
      "execution_count": null,
      "id": "c94721cc-be8e-4845-b414-fce90ac42b2f",
      "metadata": {
        "id": "c94721cc-be8e-4845-b414-fce90ac42b2f",
        "outputId": "2bcc4c49-123d-4511-a662-3afaf1cee9f8"
      },
      "outputs": [
        {
          "name": "stdout",
          "output_type": "stream",
          "text": [
            "Top 5 Association Rules:\n",
            "                    antecedents    consequents   support  confidence      lift\n",
            "46                (light cream)      (chicken)  0.004533    0.290598  4.843951\n",
            "114                     (pasta)     (escalope)  0.005866    0.372881  4.700812\n",
            "221                     (pasta)       (shrimp)  0.005066    0.322034  4.506672\n",
            "218         (whole wheat pasta)    (olive oil)  0.007999    0.271493  4.122410\n",
            "594  (spaghetti, herb & pepper)  (ground beef)  0.006399    0.393443  4.004360\n"
          ]
        }
      ],
      "source": [
        "#Defining thresholds for confidence and lift.\n",
        "\n",
        "min_confidence = 0.2\n",
        "min_lift = 3\n",
        "\n",
        "#Generating association rules from the frequent itemsets.\n",
        "\n",
        "rules = association_rules(frequent_itemsets, metric=\"confidence\", min_threshold=min_confidence)\n",
        "rules = rules[rules['lift'] >= min_lift]\n",
        "\n",
        "#Displaying the top 5 rules sorted by lift and confidence.\n",
        "\n",
        "top_rules = rules.sort_values(by=['lift', 'confidence'], ascending=False).head(5)\n",
        "print(\"Top 5 Association Rules:\")\n",
        "print(top_rules[['antecedents', 'consequents', 'support', 'confidence', 'lift']])"
      ]
    },
    {
      "cell_type": "markdown",
      "id": "fcaa23fd-9b99-4ddc-b1fc-6b0e4aefaa13",
      "metadata": {
        "id": "fcaa23fd-9b99-4ddc-b1fc-6b0e4aefaa13"
      },
      "source": [
        "# Part 3: Analysis and Visualization"
      ]
    },
    {
      "cell_type": "markdown",
      "id": "3b06c153-f6f9-4759-92ea-1faa954277c3",
      "metadata": {
        "id": "3b06c153-f6f9-4759-92ea-1faa954277c3"
      },
      "source": [
        "#1. Analyze the Frequent Itemsets"
      ]
    },
    {
      "cell_type": "code",
      "execution_count": null,
      "id": "58922e3c-c2ac-4607-99f7-3ad0d2c73037",
      "metadata": {
        "id": "58922e3c-c2ac-4607-99f7-3ad0d2c73037",
        "outputId": "664e4390-e2f8-4711-a32e-e3a40f7cc055"
      },
      "outputs": [
        {
          "name": "stdout",
          "output_type": "stream",
          "text": [
            "Frequent Itemsets with Support Values:\n",
            "      support                                           itemsets\n",
            "0    0.020397                                          (almonds)\n",
            "1    0.008932                                (antioxydant juice)\n",
            "2    0.004666                                        (asparagus)\n",
            "3    0.033329                                          (avocado)\n",
            "4    0.004533                                      (babies food)\n",
            "..        ...                                                ...\n",
            "837  0.006266       (whole wheat rice, spaghetti, mineral water)\n",
            "838  0.005066                   (pancakes, spaghetti, olive oil)\n",
            "839  0.004533        (chocolate, spaghetti, mineral water, eggs)\n",
            "840  0.004933        (chocolate, spaghetti, mineral water, milk)\n",
            "841  0.004533  (milk, spaghetti, mineral water, frozen vegeta...\n",
            "\n",
            "[842 rows x 2 columns]\n"
          ]
        }
      ],
      "source": [
        "#Displaying the frequent itemsets with thier support values.\n",
        "\n",
        "print(\"Frequent Itemsets with Support Values:\")\n",
        "print(frequent_itemsets)"
      ]
    },
    {
      "cell_type": "code",
      "execution_count": null,
      "id": "74a35083-b347-48e7-9dec-9dd2db57f50d",
      "metadata": {
        "id": "74a35083-b347-48e7-9dec-9dd2db57f50d",
        "outputId": "0194abe1-b9d8-49b5-aa0a-9de78b34e536"
      },
      "outputs": [
        {
          "name": "stdout",
          "output_type": "stream",
          "text": [
            "\n",
            "Top 5-10 Frequent Itemsets:\n",
            "     support             itemsets\n",
            "64  0.238368      (mineral water)\n",
            "31  0.179709               (eggs)\n",
            "90  0.174110          (spaghetti)\n",
            "37  0.170911       (french fries)\n",
            "23  0.163845          (chocolate)\n",
            "48  0.132116          (green tea)\n",
            "63  0.129583               (milk)\n",
            "49  0.098254        (ground beef)\n",
            "43  0.095321  (frozen vegetables)\n",
            "72  0.095054           (pancakes)\n"
          ]
        }
      ],
      "source": [
        "#Analyzing the top 10 frequent itemsets based on thier support values.\n",
        "\n",
        "top_frequent_itemsets = frequent_itemsets.nlargest(10, 'support')\n",
        "print(\"\\nTop 5-10 Frequent Itemsets:\")\n",
        "print(top_frequent_itemsets)"
      ]
    },
    {
      "cell_type": "markdown",
      "id": "bdaf06d8-c83a-4672-acae-852efd244572",
      "metadata": {
        "id": "bdaf06d8-c83a-4672-acae-852efd244572"
      },
      "source": [
        "#2.\tVisualize the Results"
      ]
    },
    {
      "cell_type": "code",
      "execution_count": null,
      "id": "1d74567c-29b2-476f-8d2d-2434f1cc3272",
      "metadata": {
        "id": "1d74567c-29b2-476f-8d2d-2434f1cc3272",
        "outputId": "a69429b4-2cc8-44e1-82b8-ded016dc421d"
      },
      "outputs": [
        {
          "data": {
            "image/png": "[encoded data removed]",
            "text/plain": [
              "<Figure size 1000x600 with 1 Axes>"
            ]
          },
          "metadata": {},
          "output_type": "display_data"
        }
      ],
      "source": [
        "#Bar chart for the top frequent itemsets based on thier support values.\n",
        "\n",
        "plt.figure(figsize=(10, 6))\n",
        "plt.barh(top_frequent_itemsets['itemsets'].astype(str), top_frequent_itemsets['support'], color='skyblue')\n",
        "plt.xlabel('Support')\n",
        "plt.title('Top 10 Frequent Itemsets by Support')\n",
        "plt.gca().invert_yaxis()\n",
        "plt.show()"
      ]
    },
    {
      "cell_type": "code",
      "execution_count": null,
      "id": "211bc427-69d1-476b-b7a1-06046c18f89e",
      "metadata": {
        "id": "211bc427-69d1-476b-b7a1-06046c18f89e",
        "outputId": "230a7b95-9572-4026-bd38-9a1d47d625f8"
      },
      "outputs": [
        {
          "data": {
            "image/png": "[encoded data removed]",
            "text/plain": [
              "<Figure size 1000x600 with 2 Axes>"
            ]
          },
          "metadata": {},
          "output_type": "display_data"
        }
      ],
      "source": [
        "#Scatter plot to showcase the relationship b/w support, confidence, & lift.\n",
        "\n",
        "plt.figure(figsize=(10, 6))\n",
        "plt.scatter(rules['support'], rules['confidence'], alpha=0.6, c=rules['lift'], cmap='viridis')\n",
        "plt.colorbar(label='Lift')\n",
        "plt.xlabel('Support')\n",
        "plt.ylabel('Confidence')\n",
        "plt.title('Support vs Confidence (Color = Lift)')\n",
        "plt.show()"
      ]
    },
    {
      "cell_type": "markdown",
      "id": "202d71c1-f9a6-4bd9-b709-ca0874187e7b",
      "metadata": {
        "id": "202d71c1-f9a6-4bd9-b709-ca0874187e7b"
      },
      "source": [
        "#3.\tDisplay Association Rules"
      ]
    },
    {
      "cell_type": "code",
      "execution_count": null,
      "id": "71b46a3d-ae8e-4eca-b57c-f12e25c439f9",
      "metadata": {
        "id": "71b46a3d-ae8e-4eca-b57c-f12e25c439f9",
        "outputId": "924c134b-f6f3-4b71-8c4b-3496df27a7db"
      },
      "outputs": [
        {
          "name": "stdout",
          "output_type": "stream",
          "text": [
            "Top 5 Association Rules (sorted by Lift and Confidence):\n",
            "                    antecedents    consequents   support  confidence      lift\n",
            "46                (light cream)      (chicken)  0.004533    0.290598  4.843951\n",
            "114                     (pasta)     (escalope)  0.005866    0.372881  4.700812\n",
            "221                     (pasta)       (shrimp)  0.005066    0.322034  4.506672\n",
            "218         (whole wheat pasta)    (olive oil)  0.007999    0.271493  4.122410\n",
            "594  (spaghetti, herb & pepper)  (ground beef)  0.006399    0.393443  4.004360\n"
          ]
        }
      ],
      "source": [
        "#Displaying the top 5 association rules based on lift and confidence.\n",
        "\n",
        "top_rules = rules.sort_values(by=['lift', 'confidence'], ascending=False).head(5)\n",
        "print(\"Top 5 Association Rules (sorted by Lift and Confidence):\")\n",
        "print(top_rules[['antecedents', 'consequents', 'support', 'confidence', 'lift']])"
      ]
    },
    {
      "cell_type": "code",
      "execution_count": null,
      "id": "744c5e11-6801-44cd-8ccc-06d7edb50b72",
      "metadata": {
        "id": "744c5e11-6801-44cd-8ccc-06d7edb50b72",
        "outputId": "3e25e543-5a88-46b3-ced4-7f1c4f00891d"
      },
      "outputs": [
        {
          "name": "stdout",
          "output_type": "stream",
          "text": [
            "Rule 47: frozenset({'light cream'}) -> frozenset({'chicken'})\n",
            "  Support: 0.004532728969470737\n",
            "  Confidence: 0.29059829059829057\n",
            "  Lift: 4.84395061728395\n",
            "\n",
            "Rule 115: frozenset({'pasta'}) -> frozenset({'escalope'})\n",
            "  Support: 0.005865884548726837\n",
            "  Confidence: 0.3728813559322034\n",
            "  Lift: 4.700811850163794\n",
            "\n",
            "Rule 222: frozenset({'pasta'}) -> frozenset({'shrimp'})\n",
            "  Support: 0.005065991201173177\n",
            "  Confidence: 0.3220338983050847\n",
            "  Lift: 4.506672147735896\n",
            "\n",
            "Rule 219: frozenset({'whole wheat pasta'}) -> frozenset({'olive oil'})\n",
            "  Support: 0.007998933475536596\n",
            "  Confidence: 0.2714932126696833\n",
            "  Lift: 4.122410097642296\n",
            "\n",
            "Rule 595: frozenset({'spaghetti', 'herb & pepper'}) -> frozenset({'ground beef'})\n",
            "  Support: 0.006399146780429276\n",
            "  Confidence: 0.3934426229508197\n",
            "  Lift: 4.004359721511667\n",
            "\n"
          ]
        }
      ],
      "source": [
        "#Additional analysis: Printing each rules with thier support values, confidence, & lift.\n",
        "\n",
        "for idx, rule in top_rules.iterrows():\n",
        "    print(f\"Rule {idx + 1}: {rule['antecedents']} -> {rule['consequents']}\")\n",
        "    print(f\"  Support: {rule['support']}\")\n",
        "    print(f\"  Confidence: {rule['confidence']}\")\n",
        "    print(f\"  Lift: {rule['lift']}\\n\")"
      ]
    },
    {
      "cell_type": "markdown",
      "id": "71e34280-64e7-4f83-821f-0d6307e3cef6",
      "metadata": {
        "id": "71e34280-64e7-4f83-821f-0d6307e3cef6"
      },
      "source": [
        "# Part 4: Conclusion"
      ]
    },
    {
      "cell_type": "markdown",
      "source": [
        "Insights:\n",
        "- Most frequent items: mineral water, eggs, spaghetti, french fries, chocolate.\n",
        "- Strong rules include:\n",
        "    (light cream) → (chicken)\n",
        "    (pasta) → (escalope)\n",
        "    (spaghetti, herb & pepper) → (ground beef)\n",
        "- These rules can help retailers with cross-selling, promotions, and inventory planning."
      ],
      "metadata": {
        "id": "r7H0NGypfT8O"
      },
      "id": "r7H0NGypfT8O"
    }
  ],
  "metadata": {
    "kernelspec": {
      "display_name": "Python 3 (ipykernel)",
      "language": "python",
      "name": "python3"
    },
    "language_info": {
      "codemirror_mode": {
        "name": "ipython",
        "version": 3
      },
      "file_extension": ".py",
      "mimetype": "text/x-python",
      "name": "python",
      "nbconvert_exporter": "python",
      "pygments_lexer": "ipython3",
      "version": "3.12.7"
    },
    "panel-cell-order": [
      "9d0ce086-83e6-4d77-870c-8bf55da742d9",
      "87f75e73-40f5-4f0c-a2fe-cc29b2814c6d",
      "7ae72dfc-a0d6-4951-b397-5b2b4075a286",
      "2231f6d0-7bc8-4318-a278-be53071d8df6",
      "24321915-6ada-48bd-a000-70b83dba2c1b",
      "e91f999e-915d-4001-9a50-4fae20d8e923",
      "826ac2ed-d827-48ec-bd78-27a6eda2508c",
      "40e35f6a-dbeb-463e-84e0-a660e14c0fd6",
      "2ad3e141-2554-4aa2-87a9-2ce06a7510f4",
      "567f027f-6051-44d0-9495-6968f6d15303",
      "acfbbda9-25eb-4f66-929f-d1672c266991",
      "efc16393-4be8-47a9-9b33-7a9176b8da83",
      "b181b998-1216-4800-a50c-1a8e73576d64",
      "98e02880-48e6-401c-9579-10689d33d380",
      "1d658061-fecb-4e11-8efa-a84e85a3ec44",
      "70c848ba-834a-41a4-85aa-502a95f92709",
      "70b29023-5ea2-4f1c-8007-58cc38f20e2a",
      "1872ff53-2c16-4355-ba68-3be075cced1a",
      "cd25011c-6d21-4c2d-b840-e178505c9387",
      "349d2e54-6f8b-4f0b-934d-a5fbb4dec7b6",
      "86d7014d-1b7d-4d09-8d8c-c53654f2e01b",
      "3fa76b52-0b0a-4a8c-9b4f-25d2624564be",
      "e945dd46-77fe-43ff-9c24-72a78283f6de",
      "671fc63d-a65b-42a1-aec7-212e6721b066",
      "11d5ad2c-e9e8-458c-97b6-01c8a4d42d66",
      "04570fef-203d-4e3a-acbc-3e859f69770e",
      "dc309592-e45a-417e-b95f-8c85517860a9",
      "eb231c58-0187-4367-ac9d-ef1c4b433edf",
      "7eefcfe4-79d2-4112-afeb-8fed6eff7aef",
      "345194f4-f579-4207-bdd3-a3bbb7314533",
      "2baf2014-9468-4dd6-8d84-f460732297b3",
      "091bcf46-b8dd-4817-a241-9d2830fed1b6",
      "35cce85c-d387-4014-81ad-f8f7f5509ebe",
      "e2440901-6b0f-49f5-af2a-0d6661c7adf7",
      "76d2593f-108f-4859-a7cb-f12d7d0d1093",
      "97cc149e-63e7-45b2-8b64-27c250dc2e60",
      "41be0125-816d-43a1-8ddc-f99ef913df6c",
      "93d9bf15-2f7c-4a0e-84a9-c54959b926c4"
    ],
    "colab": {
      "provenance": []
    }
  },
  "nbformat": 4,
  "nbformat_minor": 5
}